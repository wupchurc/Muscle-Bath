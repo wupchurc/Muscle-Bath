{
 "cells": [
  {
   "cell_type": "code",
   "execution_count": 1,
   "metadata": {},
   "outputs": [],
   "source": [
    "#import python packages\n",
    "import pandas as pd\n",
    "import matplotlib.pyplot as plt\n",
    "import numpy as np\n",
    "from scipy.signal import argrelextrema\n",
    "#import scipy as sp\n",
    "from scipy.signal import find_peaks\n",
    "import peakutils"
   ]
  },
  {
   "cell_type": "code",
   "execution_count": 2,
   "metadata": {
    "scrolled": true
   },
   "outputs": [
    {
     "name": "stdout",
     "output_type": "stream",
     "text": [
      "Input filename:2018_09_21_Myometrial_Contractility_Study_11_MB_1_8.tsv\n"
     ]
    }
   ],
   "source": [
    "#assign filename variable\n",
    "#example input: 2018_08_22_Myometrial_Contractility_Study_4_MB_1_8.tsv\n",
    "filename = input(\"Input filename:\" )\n",
    "#assign variable for excel reference file\n",
    "ref_filename = \"./Myometrial Contractility Reference.txt\"\n",
    "#assign variable for comments file\n",
    "comments_filename = filename[0:-4] + \"_comments\" + \".txt\""
   ]
  },
  {
   "cell_type": "code",
   "execution_count": 3,
   "metadata": {},
   "outputs": [
    {
     "data": {
      "text/html": [
       "<div>\n",
       "<style scoped>\n",
       "    .dataframe tbody tr th:only-of-type {\n",
       "        vertical-align: middle;\n",
       "    }\n",
       "\n",
       "    .dataframe tbody tr th {\n",
       "        vertical-align: top;\n",
       "    }\n",
       "\n",
       "    .dataframe thead th {\n",
       "        text-align: right;\n",
       "    }\n",
       "</style>\n",
       "<table border=\"1\" class=\"dataframe\">\n",
       "  <thead>\n",
       "    <tr style=\"text-align: right;\">\n",
       "      <th></th>\n",
       "      <th>Filename</th>\n",
       "      <th>Study</th>\n",
       "      <th>Patient</th>\n",
       "      <th>Bath Number</th>\n",
       "      <th>Patient Status</th>\n",
       "      <th>Pitocin</th>\n",
       "      <th>Amount (ml)</th>\n",
       "      <th>Treatment</th>\n",
       "      <th>Conc. (ng/ml)</th>\n",
       "      <th>Length (mm)</th>\n",
       "      <th>...</th>\n",
       "      <th>Unnamed: 28</th>\n",
       "      <th>Unnamed: 29</th>\n",
       "      <th>Unnamed: 30</th>\n",
       "      <th>Unnamed: 31</th>\n",
       "      <th>Unnamed: 32</th>\n",
       "      <th>Unnamed: 33</th>\n",
       "      <th>Unnamed: 34</th>\n",
       "      <th>Unnamed: 35</th>\n",
       "      <th>Unnamed: 36</th>\n",
       "      <th>Unnamed: 37</th>\n",
       "    </tr>\n",
       "  </thead>\n",
       "  <tbody>\n",
       "    <tr>\n",
       "      <th>0</th>\n",
       "      <td>NaN</td>\n",
       "      <td>1</td>\n",
       "      <td>1</td>\n",
       "      <td>1</td>\n",
       "      <td>NaN</td>\n",
       "      <td>1.0</td>\n",
       "      <td>0.1</td>\n",
       "      <td>Adiponectin</td>\n",
       "      <td>100.0</td>\n",
       "      <td>21.69</td>\n",
       "      <td>...</td>\n",
       "      <td>NaN</td>\n",
       "      <td>NaN</td>\n",
       "      <td>NaN</td>\n",
       "      <td>NaN</td>\n",
       "      <td>NaN</td>\n",
       "      <td>NaN</td>\n",
       "      <td>NaN</td>\n",
       "      <td>NaN</td>\n",
       "      <td>NaN</td>\n",
       "      <td>NaN</td>\n",
       "    </tr>\n",
       "    <tr>\n",
       "      <th>1</th>\n",
       "      <td>NaN</td>\n",
       "      <td>1</td>\n",
       "      <td>1</td>\n",
       "      <td>2</td>\n",
       "      <td>NaN</td>\n",
       "      <td>0.0</td>\n",
       "      <td>0.0</td>\n",
       "      <td>Adiponectin</td>\n",
       "      <td>100.0</td>\n",
       "      <td>25.97</td>\n",
       "      <td>...</td>\n",
       "      <td>NaN</td>\n",
       "      <td>NaN</td>\n",
       "      <td>NaN</td>\n",
       "      <td>NaN</td>\n",
       "      <td>NaN</td>\n",
       "      <td>NaN</td>\n",
       "      <td>NaN</td>\n",
       "      <td>NaN</td>\n",
       "      <td>NaN</td>\n",
       "      <td>NaN</td>\n",
       "    </tr>\n",
       "    <tr>\n",
       "      <th>2</th>\n",
       "      <td>NaN</td>\n",
       "      <td>1</td>\n",
       "      <td>1</td>\n",
       "      <td>3</td>\n",
       "      <td>NaN</td>\n",
       "      <td>1.0</td>\n",
       "      <td>0.1</td>\n",
       "      <td>Adiponectin</td>\n",
       "      <td>1000.0</td>\n",
       "      <td>NaN</td>\n",
       "      <td>...</td>\n",
       "      <td>NaN</td>\n",
       "      <td>NaN</td>\n",
       "      <td>NaN</td>\n",
       "      <td>NaN</td>\n",
       "      <td>NaN</td>\n",
       "      <td>NaN</td>\n",
       "      <td>NaN</td>\n",
       "      <td>NaN</td>\n",
       "      <td>NaN</td>\n",
       "      <td>NaN</td>\n",
       "    </tr>\n",
       "    <tr>\n",
       "      <th>3</th>\n",
       "      <td>NaN</td>\n",
       "      <td>1</td>\n",
       "      <td>1</td>\n",
       "      <td>4</td>\n",
       "      <td>NaN</td>\n",
       "      <td>0.0</td>\n",
       "      <td>0.0</td>\n",
       "      <td>Adiponectin</td>\n",
       "      <td>1000.0</td>\n",
       "      <td>24.07</td>\n",
       "      <td>...</td>\n",
       "      <td>NaN</td>\n",
       "      <td>NaN</td>\n",
       "      <td>NaN</td>\n",
       "      <td>NaN</td>\n",
       "      <td>NaN</td>\n",
       "      <td>NaN</td>\n",
       "      <td>NaN</td>\n",
       "      <td>NaN</td>\n",
       "      <td>NaN</td>\n",
       "      <td>NaN</td>\n",
       "    </tr>\n",
       "    <tr>\n",
       "      <th>4</th>\n",
       "      <td>NaN</td>\n",
       "      <td>1</td>\n",
       "      <td>1</td>\n",
       "      <td>5</td>\n",
       "      <td>NaN</td>\n",
       "      <td>1.0</td>\n",
       "      <td>0.1</td>\n",
       "      <td>TNF_alpha</td>\n",
       "      <td>0.1</td>\n",
       "      <td>29.79</td>\n",
       "      <td>...</td>\n",
       "      <td>NaN</td>\n",
       "      <td>NaN</td>\n",
       "      <td>NaN</td>\n",
       "      <td>NaN</td>\n",
       "      <td>NaN</td>\n",
       "      <td>NaN</td>\n",
       "      <td>NaN</td>\n",
       "      <td>NaN</td>\n",
       "      <td>NaN</td>\n",
       "      <td>NaN</td>\n",
       "    </tr>\n",
       "  </tbody>\n",
       "</table>\n",
       "<p>5 rows × 38 columns</p>\n",
       "</div>"
      ],
      "text/plain": [
       "  Filename  Study Patient  Bath Number  Patient Status  Pitocin  Amount (ml)  \\\n",
       "0      NaN      1       1            1             NaN      1.0          0.1   \n",
       "1      NaN      1       1            2             NaN      0.0          0.0   \n",
       "2      NaN      1       1            3             NaN      1.0          0.1   \n",
       "3      NaN      1       1            4             NaN      0.0          0.0   \n",
       "4      NaN      1       1            5             NaN      1.0          0.1   \n",
       "\n",
       "     Treatment  Conc. (ng/ml)  Length (mm)     ...       Unnamed: 28  \\\n",
       "0  Adiponectin          100.0        21.69     ...               NaN   \n",
       "1  Adiponectin          100.0        25.97     ...               NaN   \n",
       "2  Adiponectin         1000.0          NaN     ...               NaN   \n",
       "3  Adiponectin         1000.0        24.07     ...               NaN   \n",
       "4    TNF_alpha            0.1        29.79     ...               NaN   \n",
       "\n",
       "   Unnamed: 29  Unnamed: 30  Unnamed: 31 Unnamed: 32  Unnamed: 33  \\\n",
       "0          NaN          NaN          NaN         NaN          NaN   \n",
       "1          NaN          NaN          NaN         NaN          NaN   \n",
       "2          NaN          NaN          NaN         NaN          NaN   \n",
       "3          NaN          NaN          NaN         NaN          NaN   \n",
       "4          NaN          NaN          NaN         NaN          NaN   \n",
       "\n",
       "   Unnamed: 34  Unnamed: 35  Unnamed: 36  Unnamed: 37  \n",
       "0          NaN          NaN          NaN          NaN  \n",
       "1          NaN          NaN          NaN          NaN  \n",
       "2          NaN          NaN          NaN          NaN  \n",
       "3          NaN          NaN          NaN          NaN  \n",
       "4          NaN          NaN          NaN          NaN  \n",
       "\n",
       "[5 rows x 38 columns]"
      ]
     },
     "execution_count": 3,
     "metadata": {},
     "output_type": "execute_result"
    }
   ],
   "source": [
    "#import data from excel reference file\n",
    "#import muscle bath tsv file (as pandas dataframe?)\n",
    "#import corresponding comments file\n",
    "df_file = pd.read_csv(filename, sep='\\t')\n",
    "df_ref = pd.read_csv(ref_filename, sep='\\t')\n",
    "comments_file = open(comments_filename,'r')\n",
    "df_ref.head()"
   ]
  },
  {
   "cell_type": "code",
   "execution_count": 4,
   "metadata": {},
   "outputs": [],
   "source": [
    "#process comments\n",
    "cment_time = []\n",
    "cment_txt = []\n",
    "for line in comments_file:\n",
    "    line = line.rstrip()\n",
    "    line = line.split(sep = '\\t')\n",
    "    cment_time.append(line[0])\n",
    "    cment_txt.append(line[1])"
   ]
  },
  {
   "cell_type": "code",
   "execution_count": 5,
   "metadata": {},
   "outputs": [
    {
     "data": {
      "text/html": [
       "<div>\n",
       "<style scoped>\n",
       "    .dataframe tbody tr th:only-of-type {\n",
       "        vertical-align: middle;\n",
       "    }\n",
       "\n",
       "    .dataframe tbody tr th {\n",
       "        vertical-align: top;\n",
       "    }\n",
       "\n",
       "    .dataframe thead th {\n",
       "        text-align: right;\n",
       "    }\n",
       "</style>\n",
       "<table border=\"1\" class=\"dataframe\">\n",
       "  <thead>\n",
       "    <tr style=\"text-align: right;\">\n",
       "      <th></th>\n",
       "      <th>Comments</th>\n",
       "      <th>Force1</th>\n",
       "      <th>Force2</th>\n",
       "      <th>Force3</th>\n",
       "      <th>Force4</th>\n",
       "      <th>Force5</th>\n",
       "      <th>Force6</th>\n",
       "      <th>Force7</th>\n",
       "      <th>Force8</th>\n",
       "    </tr>\n",
       "    <tr>\n",
       "      <th>Experiment Time</th>\n",
       "      <th></th>\n",
       "      <th></th>\n",
       "      <th></th>\n",
       "      <th></th>\n",
       "      <th></th>\n",
       "      <th></th>\n",
       "      <th></th>\n",
       "      <th></th>\n",
       "      <th></th>\n",
       "    </tr>\n",
       "  </thead>\n",
       "  <tbody>\n",
       "    <tr>\n",
       "      <th>0.0</th>\n",
       "      <td>NaN</td>\n",
       "      <td>6.825</td>\n",
       "      <td>3.535</td>\n",
       "      <td>5.131</td>\n",
       "      <td>2.428</td>\n",
       "      <td>9.462</td>\n",
       "      <td>2.979</td>\n",
       "      <td>-0.05828</td>\n",
       "      <td>2.582</td>\n",
       "    </tr>\n",
       "    <tr>\n",
       "      <th>1.0</th>\n",
       "      <td>NaN</td>\n",
       "      <td>6.820</td>\n",
       "      <td>3.527</td>\n",
       "      <td>5.136</td>\n",
       "      <td>2.433</td>\n",
       "      <td>9.459</td>\n",
       "      <td>2.991</td>\n",
       "      <td>-0.04980</td>\n",
       "      <td>2.569</td>\n",
       "    </tr>\n",
       "    <tr>\n",
       "      <th>2.0</th>\n",
       "      <td>NaN</td>\n",
       "      <td>6.814</td>\n",
       "      <td>3.529</td>\n",
       "      <td>5.144</td>\n",
       "      <td>2.436</td>\n",
       "      <td>9.483</td>\n",
       "      <td>2.992</td>\n",
       "      <td>-0.05404</td>\n",
       "      <td>2.582</td>\n",
       "    </tr>\n",
       "    <tr>\n",
       "      <th>3.0</th>\n",
       "      <td>NaN</td>\n",
       "      <td>6.816</td>\n",
       "      <td>3.532</td>\n",
       "      <td>5.129</td>\n",
       "      <td>2.430</td>\n",
       "      <td>9.477</td>\n",
       "      <td>2.997</td>\n",
       "      <td>-0.04980</td>\n",
       "      <td>2.578</td>\n",
       "    </tr>\n",
       "    <tr>\n",
       "      <th>4.0</th>\n",
       "      <td>NaN</td>\n",
       "      <td>6.814</td>\n",
       "      <td>3.530</td>\n",
       "      <td>5.136</td>\n",
       "      <td>2.436</td>\n",
       "      <td>9.451</td>\n",
       "      <td>2.995</td>\n",
       "      <td>-0.05616</td>\n",
       "      <td>2.577</td>\n",
       "    </tr>\n",
       "  </tbody>\n",
       "</table>\n",
       "</div>"
      ],
      "text/plain": [
       "                Comments  Force1  Force2  Force3  Force4  Force5  Force6  \\\n",
       "Experiment Time                                                            \n",
       "0.0                  NaN   6.825   3.535   5.131   2.428   9.462   2.979   \n",
       "1.0                  NaN   6.820   3.527   5.136   2.433   9.459   2.991   \n",
       "2.0                  NaN   6.814   3.529   5.144   2.436   9.483   2.992   \n",
       "3.0                  NaN   6.816   3.532   5.129   2.430   9.477   2.997   \n",
       "4.0                  NaN   6.814   3.530   5.136   2.436   9.451   2.995   \n",
       "\n",
       "                  Force7  Force8  \n",
       "Experiment Time                   \n",
       "0.0             -0.05828   2.582  \n",
       "1.0             -0.04980   2.569  \n",
       "2.0             -0.05404   2.582  \n",
       "3.0             -0.04980   2.578  \n",
       "4.0             -0.05616   2.577  "
      ]
     },
     "execution_count": 5,
     "metadata": {},
     "output_type": "execute_result"
    }
   ],
   "source": [
    "#drop unneccessary columns\n",
    "df_file = df_file.drop(columns=['Timestamp','Stimulus'])\n",
    "#set experiment time as index\n",
    "df_file.set_index('Experiment Time', inplace = True)\n",
    "#view first 5 rows of input file\n",
    "df_file.head()"
   ]
  },
  {
   "cell_type": "code",
   "execution_count": 6,
   "metadata": {},
   "outputs": [
    {
     "data": {
      "text/html": [
       "<div>\n",
       "<style scoped>\n",
       "    .dataframe tbody tr th:only-of-type {\n",
       "        vertical-align: middle;\n",
       "    }\n",
       "\n",
       "    .dataframe tbody tr th {\n",
       "        vertical-align: top;\n",
       "    }\n",
       "\n",
       "    .dataframe thead th {\n",
       "        text-align: right;\n",
       "    }\n",
       "</style>\n",
       "<table border=\"1\" class=\"dataframe\">\n",
       "  <thead>\n",
       "    <tr style=\"text-align: right;\">\n",
       "      <th></th>\n",
       "      <th>Filename</th>\n",
       "      <th>Study</th>\n",
       "      <th>Patient</th>\n",
       "      <th>Bath Number</th>\n",
       "      <th>Patient Status</th>\n",
       "      <th>Pitocin</th>\n",
       "      <th>Amount (ml)</th>\n",
       "      <th>Treatment</th>\n",
       "      <th>Conc. (ng/ml)</th>\n",
       "      <th>Length (mm)</th>\n",
       "      <th>Width1(mm)</th>\n",
       "      <th>Width2(mm)</th>\n",
       "      <th>Mass (mg)</th>\n",
       "      <th>EXCLUDE SAMPLE</th>\n",
       "    </tr>\n",
       "  </thead>\n",
       "  <tbody>\n",
       "    <tr>\n",
       "      <th>112</th>\n",
       "      <td>2018_09_21_Myometrial_Contractility_Study_11_M...</td>\n",
       "      <td>11</td>\n",
       "      <td>AC12</td>\n",
       "      <td>3</td>\n",
       "      <td>NaN</td>\n",
       "      <td>0.0</td>\n",
       "      <td>0.00</td>\n",
       "      <td>Omentin</td>\n",
       "      <td>500.0</td>\n",
       "      <td>23.52</td>\n",
       "      <td>1.91</td>\n",
       "      <td>1.65</td>\n",
       "      <td>52.0</td>\n",
       "      <td>NaN</td>\n",
       "    </tr>\n",
       "    <tr>\n",
       "      <th>113</th>\n",
       "      <td>2018_09_21_Myometrial_Contractility_Study_11_M...</td>\n",
       "      <td>11</td>\n",
       "      <td>AC12</td>\n",
       "      <td>4</td>\n",
       "      <td>NaN</td>\n",
       "      <td>1.0</td>\n",
       "      <td>0.05</td>\n",
       "      <td>Control</td>\n",
       "      <td>NaN</td>\n",
       "      <td>19.15</td>\n",
       "      <td>2.12</td>\n",
       "      <td>1.39</td>\n",
       "      <td>42.0</td>\n",
       "      <td>NaN</td>\n",
       "    </tr>\n",
       "    <tr>\n",
       "      <th>114</th>\n",
       "      <td>2018_09_21_Myometrial_Contractility_Study_11_M...</td>\n",
       "      <td>11</td>\n",
       "      <td>AC12</td>\n",
       "      <td>5</td>\n",
       "      <td>NaN</td>\n",
       "      <td>0.0</td>\n",
       "      <td>0.00</td>\n",
       "      <td>Resistin</td>\n",
       "      <td>500.0</td>\n",
       "      <td>20.26</td>\n",
       "      <td>1.84</td>\n",
       "      <td>1.86</td>\n",
       "      <td>44.0</td>\n",
       "      <td>NaN</td>\n",
       "    </tr>\n",
       "    <tr>\n",
       "      <th>115</th>\n",
       "      <td>2018_09_21_Myometrial_Contractility_Study_11_M...</td>\n",
       "      <td>11</td>\n",
       "      <td>AC12</td>\n",
       "      <td>6</td>\n",
       "      <td>NaN</td>\n",
       "      <td>1.0</td>\n",
       "      <td>0.05</td>\n",
       "      <td>Resistin</td>\n",
       "      <td>500.0</td>\n",
       "      <td>19.17</td>\n",
       "      <td>1.80</td>\n",
       "      <td>1.64</td>\n",
       "      <td>28.0</td>\n",
       "      <td>NaN</td>\n",
       "    </tr>\n",
       "    <tr>\n",
       "      <th>117</th>\n",
       "      <td>2018_09_21_Myometrial_Contractility_Study_11_M...</td>\n",
       "      <td>11</td>\n",
       "      <td>AC12</td>\n",
       "      <td>8</td>\n",
       "      <td>NaN</td>\n",
       "      <td>1.0</td>\n",
       "      <td>0.05</td>\n",
       "      <td>Adiponectin</td>\n",
       "      <td>100.0</td>\n",
       "      <td>24.66</td>\n",
       "      <td>1.43</td>\n",
       "      <td>1.26</td>\n",
       "      <td>23.0</td>\n",
       "      <td>NaN</td>\n",
       "    </tr>\n",
       "  </tbody>\n",
       "</table>\n",
       "</div>"
      ],
      "text/plain": [
       "                                              Filename  Study Patient  \\\n",
       "112  2018_09_21_Myometrial_Contractility_Study_11_M...     11    AC12   \n",
       "113  2018_09_21_Myometrial_Contractility_Study_11_M...     11    AC12   \n",
       "114  2018_09_21_Myometrial_Contractility_Study_11_M...     11    AC12   \n",
       "115  2018_09_21_Myometrial_Contractility_Study_11_M...     11    AC12   \n",
       "117  2018_09_21_Myometrial_Contractility_Study_11_M...     11    AC12   \n",
       "\n",
       "     Bath Number  Patient Status  Pitocin  Amount (ml)    Treatment  \\\n",
       "112            3             NaN      0.0         0.00      Omentin   \n",
       "113            4             NaN      1.0         0.05      Control   \n",
       "114            5             NaN      0.0         0.00     Resistin   \n",
       "115            6             NaN      1.0         0.05     Resistin   \n",
       "117            8             NaN      1.0         0.05  Adiponectin   \n",
       "\n",
       "     Conc. (ng/ml)  Length (mm)  Width1(mm)  Width2(mm)  Mass (mg)  \\\n",
       "112          500.0        23.52        1.91        1.65       52.0   \n",
       "113            NaN        19.15        2.12        1.39       42.0   \n",
       "114          500.0        20.26        1.84        1.86       44.0   \n",
       "115          500.0        19.17        1.80        1.64       28.0   \n",
       "117          100.0        24.66        1.43        1.26       23.0   \n",
       "\n",
       "     EXCLUDE SAMPLE  \n",
       "112             NaN  \n",
       "113             NaN  \n",
       "114             NaN  \n",
       "115             NaN  \n",
       "117             NaN  "
      ]
     },
     "execution_count": 6,
     "metadata": {},
     "output_type": "execute_result"
    }
   ],
   "source": [
    "df_ref\n",
    "#find filename in reference dataframe\n",
    "df_ref = df_ref[df_ref['Filename'] == filename]\n",
    "#drop extra columns\n",
    "df_ref = df_ref[df_ref.columns[0:14]]\n",
    "#check to see if muscle bundle should be excluded\n",
    "df_ref = df_ref[df_ref[\"EXCLUDE SAMPLE\"] != 1]\n",
    "#view processed input file\n",
    "df_ref.head()"
   ]
  },
  {
   "cell_type": "code",
   "execution_count": 7,
   "metadata": {},
   "outputs": [
    {
     "name": "stdout",
     "output_type": "stream",
     "text": [
      "<class 'int'>\n"
     ]
    },
    {
     "data": {
      "text/html": [
       "<div>\n",
       "<style scoped>\n",
       "    .dataframe tbody tr th:only-of-type {\n",
       "        vertical-align: middle;\n",
       "    }\n",
       "\n",
       "    .dataframe tbody tr th {\n",
       "        vertical-align: top;\n",
       "    }\n",
       "\n",
       "    .dataframe thead th {\n",
       "        text-align: right;\n",
       "    }\n",
       "</style>\n",
       "<table border=\"1\" class=\"dataframe\">\n",
       "  <thead>\n",
       "    <tr style=\"text-align: right;\">\n",
       "      <th></th>\n",
       "      <th>Filename</th>\n",
       "      <th>Study</th>\n",
       "      <th>Patient</th>\n",
       "      <th>Bath Number</th>\n",
       "      <th>Patient Status</th>\n",
       "      <th>Pitocin</th>\n",
       "      <th>Amount (ml)</th>\n",
       "      <th>Treatment</th>\n",
       "      <th>Conc. (ng/ml)</th>\n",
       "      <th>Length (mm)</th>\n",
       "      <th>Width1(mm)</th>\n",
       "      <th>Width2(mm)</th>\n",
       "      <th>Mass (mg)</th>\n",
       "      <th>EXCLUDE SAMPLE</th>\n",
       "    </tr>\n",
       "  </thead>\n",
       "  <tbody>\n",
       "    <tr>\n",
       "      <th>0</th>\n",
       "      <td>2018_09_21_Myometrial_Contractility_Study_11_M...</td>\n",
       "      <td>11</td>\n",
       "      <td>AC12</td>\n",
       "      <td>3</td>\n",
       "      <td>NaN</td>\n",
       "      <td>0.0</td>\n",
       "      <td>0.00</td>\n",
       "      <td>Omentin</td>\n",
       "      <td>500.0</td>\n",
       "      <td>23.52</td>\n",
       "      <td>1.91</td>\n",
       "      <td>1.65</td>\n",
       "      <td>52.0</td>\n",
       "      <td>NaN</td>\n",
       "    </tr>\n",
       "    <tr>\n",
       "      <th>1</th>\n",
       "      <td>2018_09_21_Myometrial_Contractility_Study_11_M...</td>\n",
       "      <td>11</td>\n",
       "      <td>AC12</td>\n",
       "      <td>4</td>\n",
       "      <td>NaN</td>\n",
       "      <td>1.0</td>\n",
       "      <td>0.05</td>\n",
       "      <td>Control</td>\n",
       "      <td>NaN</td>\n",
       "      <td>19.15</td>\n",
       "      <td>2.12</td>\n",
       "      <td>1.39</td>\n",
       "      <td>42.0</td>\n",
       "      <td>NaN</td>\n",
       "    </tr>\n",
       "    <tr>\n",
       "      <th>2</th>\n",
       "      <td>2018_09_21_Myometrial_Contractility_Study_11_M...</td>\n",
       "      <td>11</td>\n",
       "      <td>AC12</td>\n",
       "      <td>5</td>\n",
       "      <td>NaN</td>\n",
       "      <td>0.0</td>\n",
       "      <td>0.00</td>\n",
       "      <td>Resistin</td>\n",
       "      <td>500.0</td>\n",
       "      <td>20.26</td>\n",
       "      <td>1.84</td>\n",
       "      <td>1.86</td>\n",
       "      <td>44.0</td>\n",
       "      <td>NaN</td>\n",
       "    </tr>\n",
       "    <tr>\n",
       "      <th>3</th>\n",
       "      <td>2018_09_21_Myometrial_Contractility_Study_11_M...</td>\n",
       "      <td>11</td>\n",
       "      <td>AC12</td>\n",
       "      <td>6</td>\n",
       "      <td>NaN</td>\n",
       "      <td>1.0</td>\n",
       "      <td>0.05</td>\n",
       "      <td>Resistin</td>\n",
       "      <td>500.0</td>\n",
       "      <td>19.17</td>\n",
       "      <td>1.80</td>\n",
       "      <td>1.64</td>\n",
       "      <td>28.0</td>\n",
       "      <td>NaN</td>\n",
       "    </tr>\n",
       "    <tr>\n",
       "      <th>4</th>\n",
       "      <td>2018_09_21_Myometrial_Contractility_Study_11_M...</td>\n",
       "      <td>11</td>\n",
       "      <td>AC12</td>\n",
       "      <td>8</td>\n",
       "      <td>NaN</td>\n",
       "      <td>1.0</td>\n",
       "      <td>0.05</td>\n",
       "      <td>Adiponectin</td>\n",
       "      <td>100.0</td>\n",
       "      <td>24.66</td>\n",
       "      <td>1.43</td>\n",
       "      <td>1.26</td>\n",
       "      <td>23.0</td>\n",
       "      <td>NaN</td>\n",
       "    </tr>\n",
       "  </tbody>\n",
       "</table>\n",
       "</div>"
      ],
      "text/plain": [
       "                                            Filename  Study Patient  \\\n",
       "0  2018_09_21_Myometrial_Contractility_Study_11_M...     11    AC12   \n",
       "1  2018_09_21_Myometrial_Contractility_Study_11_M...     11    AC12   \n",
       "2  2018_09_21_Myometrial_Contractility_Study_11_M...     11    AC12   \n",
       "3  2018_09_21_Myometrial_Contractility_Study_11_M...     11    AC12   \n",
       "4  2018_09_21_Myometrial_Contractility_Study_11_M...     11    AC12   \n",
       "\n",
       "   Bath Number  Patient Status  Pitocin  Amount (ml)    Treatment  \\\n",
       "0            3             NaN      0.0         0.00      Omentin   \n",
       "1            4             NaN      1.0         0.05      Control   \n",
       "2            5             NaN      0.0         0.00     Resistin   \n",
       "3            6             NaN      1.0         0.05     Resistin   \n",
       "4            8             NaN      1.0         0.05  Adiponectin   \n",
       "\n",
       "   Conc. (ng/ml)  Length (mm)  Width1(mm)  Width2(mm)  Mass (mg)  \\\n",
       "0          500.0        23.52        1.91        1.65       52.0   \n",
       "1            NaN        19.15        2.12        1.39       42.0   \n",
       "2          500.0        20.26        1.84        1.86       44.0   \n",
       "3          500.0        19.17        1.80        1.64       28.0   \n",
       "4          100.0        24.66        1.43        1.26       23.0   \n",
       "\n",
       "   EXCLUDE SAMPLE  \n",
       "0             NaN  \n",
       "1             NaN  \n",
       "2             NaN  \n",
       "3             NaN  \n",
       "4             NaN  "
      ]
     },
     "execution_count": 7,
     "metadata": {},
     "output_type": "execute_result"
    }
   ],
   "source": [
    "#reset df_ref index, starting at 0\n",
    "df_ref.reset_index(drop=True)\n",
    "print(type(len(df_ref)))\n",
    "df_ref.set_index([pd.Index(list(range(len(df_ref))))])\n",
    "\n"
   ]
  },
  {
   "cell_type": "code",
   "execution_count": 8,
   "metadata": {},
   "outputs": [
    {
     "name": "stdout",
     "output_type": "stream",
     "text": [
      "Pitocin : 7434.4\n",
      "Baseline : 11304.7\n",
      "Treatment Bath 1 : 15284.1\n",
      "Treatment Bath 3 : 15343.5\n",
      "Treatment Bath 4 : 15368.6\n",
      "Treatment Bath 5 : 15413.5\n",
      "Treatment Bath 6 : 15521.4\n",
      "Treatment Bath 8 : 15525.5\n",
      "Muscle Bath 3 :\n",
      "What time does baseline end15343\n",
      "Muscle Bath 4 :\n",
      "What time does baseline end15368\n",
      "Muscle Bath 5 :\n",
      "What time does baseline end15413\n",
      "Muscle Bath 6 :\n",
      "What time does baseline end15521\n",
      "Muscle Bath 8 :\n",
      "What time does baseline end15525\n"
     ]
    }
   ],
   "source": [
    "#print comments with timepoints\n",
    "for counter, value in enumerate(cment_time):\n",
    "    print(cment_txt[counter],\":\",value)\n",
    "#create a list of the column names where muscle bath force values are stored\n",
    "Force_list = [\"Force1\",\"Force2\",\"Force3\",\"Force4\",\"Force5\",\"Force6\",\"Force7\",\"Force8\"]\n",
    "#create a placeholder list for storing arrays of force data\n",
    "baseline_array_list = []\n",
    "#loop through viable muscle baths in study file (df_file) and retrieve baseline force data\n",
    "#send array of each muscle bath baseline force data to baseline_array_list\n",
    "for bath in df_ref['Bath Number']:\n",
    "    print('Muscle Bath',bath,':')\n",
    "    baseline_endtime = int(input(\"What time does baseline end\"))\n",
    "    baseline_array = (df_file.loc[baseline_endtime-3599:baseline_endtime,Force_list[(bath)-1]])\n",
    "    baseline_array_list.append(baseline_array)"
   ]
  },
  {
   "cell_type": "code",
   "execution_count": 15,
   "metadata": {
    "scrolled": false
   },
   "outputs": [
    {
     "name": "stdout",
     "output_type": "stream",
     "text": [
      "Muscle Bath 3\n"
     ]
    },
    {
     "data": {
      "image/png": "[encoded data removed]",
      "text/plain": [
       "<Figure size 432x288 with 1 Axes>"
      ]
     },
     "metadata": {},
     "output_type": "display_data"
    },
    {
     "name": "stdout",
     "output_type": "stream",
     "text": [
      "patientAC12_bath3.pdf\n",
      "Muscle Bath 4\n"
     ]
    },
    {
     "data": {
      "image/png": "[encoded data removed]",
      "text/plain": [
       "<Figure size 432x288 with 1 Axes>"
      ]
     },
     "metadata": {},
     "output_type": "display_data"
    },
    {
     "name": "stdout",
     "output_type": "stream",
     "text": [
      "patientAC12_bath4.pdf\n",
      "Muscle Bath 5\n"
     ]
    },
    {
     "data": {
      "image/png": "[encoded data removed]",
      "text/plain": [
       "<Figure size 432x288 with 1 Axes>"
      ]
     },
     "metadata": {},
     "output_type": "display_data"
    },
    {
     "name": "stdout",
     "output_type": "stream",
     "text": [
      "patientAC12_bath5.pdf\n",
      "Muscle Bath 6\n"
     ]
    },
    {
     "data": {
      "image/png": "[encoded data removed]",
      "text/plain": [
       "<Figure size 432x288 with 1 Axes>"
      ]
     },
     "metadata": {},
     "output_type": "display_data"
    },
    {
     "name": "stdout",
     "output_type": "stream",
     "text": [
      "patientAC12_bath6.pdf\n",
      "Muscle Bath 8\n"
     ]
    },
    {
     "data": {
      "image/png": "[encoded data removed]",
      "text/plain": [
       "<Figure size 432x288 with 1 Axes>"
      ]
     },
     "metadata": {},
     "output_type": "display_data"
    },
    {
     "name": "stdout",
     "output_type": "stream",
     "text": [
      "patientAC12_bath8.pdf\n"
     ]
    }
   ],
   "source": [
    "#plot the baseline contraction force data from\n",
    "#for bath in df_ref['Bath Number']:\n",
    "for i in range(len(baseline_array_list)):        \n",
    "    \n",
    "    bath = df_ref.iloc[i][\"Bath Number\"]\n",
    "    print(\"Muscle Bath\",bath)\n",
    "    f = plt.figure()\n",
    "    #plt.plot(np.array(baseline_array_list[bath-1]))\n",
    "    plt.plot(np.array(baseline_array_list[i]))\n",
    "    plt.show()\n",
    "    #savestring = \"patient\"+(list(df_ref['Patient'])[bath-1])+\"_\"+\"bath\"+str(bath)+'.pdf'\n",
    "    savestring = \"patient\"+(list(df_ref['Patient'])[i])+\"_\"+\"bath\"+str(bath)+'.pdf'\n",
    "    print(savestring)\n",
    "    f.savefig(savestring,sep = '')"
   ]
  },
  {
   "cell_type": "code",
   "execution_count": 33,
   "metadata": {},
   "outputs": [
    {
     "name": "stdout",
     "output_type": "stream",
     "text": [
      "Muscle Bath 3 :\n",
      "input peak height cutoff:20\n",
      "Muscle Bath 4 :\n",
      "input peak height cutoff:20\n",
      "Muscle Bath 5 :\n",
      "input peak height cutoff:9\n",
      "Muscle Bath 6 :\n",
      "input peak height cutoff:14\n",
      "Muscle Bath 8 :\n",
      "input peak height cutoff:15\n"
     ]
    }
   ],
   "source": [
    "#loop through baths in reference dataframe \n",
    "    #for each bath listed in the reference file, find the max/min(local extreme) for the 1 hr of baseline in the muscle bath file\n",
    "    #ask when baseline ended for each bath and count backwords 1hr\n",
    "\n",
    "#find local max values\n",
    "#input the height cut off for peak analysis\n",
    "locmax_list = []\n",
    "fp_output_list = []\n",
    "for i in range(len(baseline_array_list)):           \n",
    "    bath = df_ref.iloc[i][\"Bath Number\"]\n",
    "#for bath in df_ref['Bath Number']:\n",
    "    print(\"Muscle Bath\",bath,\":\")\n",
    "    cutoff = float(input(\"input peak height cutoff:\"))\n",
    "    #fp_output = find_peaks(np.array(baseline_array_list[(bath-1)]),height = cutoff, width = 35)\n",
    "    fp_output = find_peaks(np.array(baseline_array_list[(i)]),height = cutoff, width = 35)\n",
    "    #locmax = np.array(baseline_array_list[(bath-1)])[fp_output[0]]\n",
    "    locmax = np.array(baseline_array_list[(i)])[fp_output[0]]\n",
    "    locmax_list.append(locmax)\n",
    "    fp_output_list.append(fp_output)"
   ]
  },
  {
   "cell_type": "code",
   "execution_count": 34,
   "metadata": {},
   "outputs": [],
   "source": [
    "#processing find_peaks output\n",
    "#assigning values from find peaks output to a list of local max indices \n",
    "locmax_indx_list = []\n",
    "for i in range(len(fp_output_list)):\n",
    "    locmax_indx_list.append(fp_output_list[i][0])\n",
    "#assigning values from find peaks dictionary ouput to a list (to later be used with calculating duration of contractions, relaxation time, etc.)\n",
    "locmax_dic_list = []\n",
    "for i in range(len(fp_output_list)):\n",
    "    locmax_dic_list.append(fp_output_list[i][1])"
   ]
  },
  {
   "cell_type": "code",
   "execution_count": 35,
   "metadata": {
    "scrolled": true
   },
   "outputs": [
    {
     "data": {
      "text/plain": [
       "[array([ 469, 1216, 1909, 2613, 3300], dtype=int64),\n",
       " array([ 723, 1456, 2177, 2892], dtype=int64),\n",
       " array([ 222, 1764, 3083], dtype=int64),\n",
       " array([ 185, 1144, 2086, 3008], dtype=int64),\n",
       " array([ 306, 1133, 1785, 2345, 2938], dtype=int64)]"
      ]
     },
     "execution_count": 35,
     "metadata": {},
     "output_type": "execute_result"
    }
   ],
   "source": [
    "locmax_indx_list"
   ]
  },
  {
   "cell_type": "code",
   "execution_count": 36,
   "metadata": {
    "scrolled": false
   },
   "outputs": [
    {
     "name": "stdout",
     "output_type": "stream",
     "text": [
      "Muscle Bath 3\n"
     ]
    },
    {
     "data": {
      "image/png": "[encoded data removed]",
      "text/plain": [
       "<Figure size 432x288 with 1 Axes>"
      ]
     },
     "metadata": {},
     "output_type": "display_data"
    },
    {
     "name": "stdout",
     "output_type": "stream",
     "text": [
      "peakanalysisgraphs_patientAC12_bath3.pdf\n",
      "mean baseline force: [5.04794755 4.90894306 4.88417506 4.79875389 4.74523333]\n",
      "Muscle Bath 4\n"
     ]
    },
    {
     "data": {
      "image/png": "[encoded data removed]",
      "text/plain": [
       "<Figure size 432x288 with 1 Axes>"
      ]
     },
     "metadata": {},
     "output_type": "display_data"
    },
    {
     "name": "stdout",
     "output_type": "stream",
     "text": [
      "peakanalysisgraphs_patientAC12_bath4.pdf\n",
      "mean baseline force: [3.97770065 3.92645615 3.92528784 3.80812643]\n",
      "Muscle Bath 5\n"
     ]
    },
    {
     "data": {
      "image/png": "[encoded data removed]",
      "text/plain": [
       "<Figure size 432x288 with 1 Axes>"
      ]
     },
     "metadata": {},
     "output_type": "display_data"
    },
    {
     "name": "stdout",
     "output_type": "stream",
     "text": [
      "peakanalysisgraphs_patientAC12_bath5.pdf\n",
      "mean baseline force: [7.36143333 7.32136667 6.94873333]\n",
      "Muscle Bath 6\n"
     ]
    },
    {
     "data": {
      "image/png": "[encoded data removed]",
      "text/plain": [
       "<Figure size 432x288 with 1 Axes>"
      ]
     },
     "metadata": {},
     "output_type": "display_data"
    },
    {
     "name": "stdout",
     "output_type": "stream",
     "text": [
      "peakanalysisgraphs_patientAC12_bath6.pdf\n",
      "mean baseline force: [5.30767668 5.24552144 5.09303333 4.97785938]\n",
      "Muscle Bath 8\n"
     ]
    },
    {
     "data": {
      "image/png": "[encoded data removed]",
      "text/plain": [
       "<Figure size 432x288 with 1 Axes>"
      ]
     },
     "metadata": {},
     "output_type": "display_data"
    },
    {
     "name": "stdout",
     "output_type": "stream",
     "text": [
      "peakanalysisgraphs_patientAC12_bath8.pdf\n",
      "mean baseline force: [5.57388102 5.48743333 5.42485694 5.37799986 5.33664867]\n"
     ]
    }
   ],
   "source": [
    "#find a baseline/local minima range before each peak\n",
    "#create an empty list to store start indices\n",
    "startlist = []\n",
    "#create an empty list to store end indices\n",
    "endlist = []\n",
    "#create an empty list to store an arrays of baseline values\n",
    "base_val_list = []\n",
    "#create an empty list to temporarily store baseline means\n",
    "templist = []\n",
    "#create an empty list to append array of baseline means\n",
    "base = []\n",
    "#loop through muscle baths\n",
    "#for bath in df_ref['Bath Number']:\n",
    "for x in range(len(df_ref)):\n",
    "    bath = df_ref.iloc[x][\"Bath Number\"]\n",
    "    #reset lists\n",
    "    startlist = []\n",
    "    endlist = []\n",
    "    base_val_list = []\n",
    "    templist = []\n",
    "    print(\"Muscle Bath\",bath)\n",
    "    #loop through local max indices and calculate start point and end point for baseline calculation as an offset of this timepoint\n",
    "    #store values in startlist and endlist\n",
    "    for peak_time in locmax_indx_list[x]:\n",
    "        #vary start time and peak time in order to find proper baseline local min\n",
    "        #starttime = peak_time-110\n",
    "        #starttime = peak_time-180\n",
    "        #starttime = peak_time-90\n",
    "        starttime = peak_time - 120\n",
    "        #starttime = peak_time-240\n",
    "        #endtime = peak_time-80\n",
    "        endtime = peak_time-90\n",
    "        #endtime = peak_time-60\n",
    "        #endtime = peak_time-210\n",
    "        #endtime = peak_time-30\n",
    "        if starttime < 0:\n",
    "            starttime = 0\n",
    "        if endtime < 0:\n",
    "            endtime = 2\n",
    "        startlist.append(starttime)\n",
    "        endlist.append(endtime)\n",
    "    #loop through contractions, calculate baseline values, assign values to spot in base_val_list\n",
    "    for i in range(len(startlist)):\n",
    "        baseline_values = peakutils.baseline(np.array(baseline_array_list[x])[startlist[i]:endlist[i]])\n",
    "        base_val_list.append(baseline_values)\n",
    "    #plot muscle baths with local min baseline and local max values highlighted     \n",
    "    f = plt.figure()\n",
    "\n",
    "    plt.plot(np.array(baseline_array_list[x])) \n",
    "    \n",
    "    \n",
    "    for counter, base_data in enumerate(base_val_list):\n",
    "        plt.plot(np.arange(startlist[counter],endlist[counter]),base_data,'ro')\n",
    "    for counter, peak in enumerate(locmax_list[x]):\n",
    "        plt.plot(locmax_indx_list[x][counter],peak,'rx')\n",
    "    \n",
    "    plt.show()\n",
    "    \n",
    "    savestring = \"peakanalysisgraphs_\" + \"patient\"+(list(df_ref['Patient'])[x])+\"_\"+\"bath\"+str(bath)+'.pdf'\n",
    "    \n",
    "    print(savestring)\n",
    "    f.savefig(savestring,sep = '')\n",
    "    \n",
    "    \n",
    "    \n",
    "    #average local min baseline data\n",
    "    for base_val in base_val_list:\n",
    "        #altered code to calculate the minimum value of baseline instead of average*******\n",
    "        templist.append(base_val.mean())\n",
    "        #templist.append(base_val.min())\n",
    "        base_mean_array = np.array(templist)\n",
    "    print(\"mean baseline force:\",base_mean_array)\n",
    "    #store local min baseline data in list\n",
    "    base.append(base_mean_array)"
   ]
  },
  {
   "cell_type": "code",
   "execution_count": 30,
   "metadata": {
    "scrolled": false
   },
   "outputs": [
    {
     "name": "stdout",
     "output_type": "stream",
     "text": [
      "bath3 force (g)\n",
      "23.432052454664454\n",
      "23.421056942850466\n",
      "23.235824942750327\n",
      "23.11124610989061\n",
      "22.794766666666664\n",
      "bath4 force (g)\n",
      "21.562299345718728\n",
      "21.31354385036694\n",
      "21.124712155975192\n",
      "21.01187356790361\n",
      "bath5 force (g)\n",
      "4.328566666666656\n",
      "4.038633333333336\n",
      "4.081266666666686\n",
      "bath6 force (g)\n",
      "13.242323315912422\n",
      "13.014478562390424\n",
      "12.796966666666666\n",
      "12.582140622496091\n",
      "bath8 force (g)\n",
      "16.846118979557964\n",
      "16.542566666666673\n",
      "16.41514305612358\n",
      "16.272000140550407\n",
      "16.09335133408614\n"
     ]
    }
   ],
   "source": [
    "#calculate baseline peak forces\n",
    "for x in range(len(locmax_list)):\n",
    "    bath = df_ref.iloc[x][\"Bath Number\"]\n",
    "    print (\"bath\",bath,\" force (g)\",sep='')\n",
    "    for i in range(len(locmax_list[x])):\n",
    "        print(locmax_list[x][i]-base[x][i])"
   ]
  },
  {
   "cell_type": "code",
   "execution_count": 27,
   "metadata": {
    "scrolled": true
   },
   "outputs": [],
   "source": [
    "#calculate CSA\n",
    "CSA_list = []\n",
    "for bath in df_ref['Bath Number']:\n",
    "    length = float(df_ref[df_ref['Bath Number']== bath]['Length (mm)'])\n",
    "    mass = float(df_ref[df_ref['Bath Number']== bath]['Mass (mg)'])\n",
    "    CSA = (length *1.056)/mass\n",
    "    CSA_list.append(CSA)\n",
    "#for i in range(len(CSA_list)):\n",
    "#    print(\"Muscle Bath\", i + 1)\n",
    "#    print(CSA_list[i])"
   ]
  },
  {
   "cell_type": "code",
   "execution_count": 32,
   "metadata": {
    "scrolled": false
   },
   "outputs": [
    {
     "name": "stdout",
     "output_type": "stream",
     "text": [
      "bath3 norm (g/CSA)\n",
      "49.05829370082165\n",
      "49.03527305211812\n",
      "48.64746383731354\n",
      "48.38664054907782\n",
      "47.72404637359993\n",
      "bath4 norm (g/CSA)\n",
      "44.78284340731993\n",
      "44.266201920415554\n",
      "43.874016464463075\n",
      "43.63966145719359\n",
      "bath5 norm (g/CSA)\n",
      "8.902119666556958\n",
      "8.305843479214658\n",
      "8.393523088735368\n",
      "bath6 norm (g/CSA)\n",
      "18.31623417496304\n",
      "18.00108873095844\n",
      "17.70023526870162\n",
      "17.40309676528047\n",
      "bath8 norm (g/CSA)\n",
      "14.87889603646844\n",
      "14.610791358434307\n",
      "14.498247771619875\n",
      "14.371820517855692\n",
      "14.214033610280927\n"
     ]
    }
   ],
   "source": [
    "#calculate CSA normalized baseline peak forces\n",
    "for x in range(len(locmax_list)):\n",
    "    bath = df_ref.iloc[x][\"Bath Number\"]\n",
    "    print (\"bath\",bath,\" norm (g/CSA)\", sep = '')\n",
    "    for i in range(len(locmax_list[x])):\n",
    "        print((locmax_list[x][i]-base[x][i])/CSA_list[x])"
   ]
  },
  {
   "cell_type": "code",
   "execution_count": 29,
   "metadata": {
    "scrolled": false
   },
   "outputs": [
    {
     "name": "stdout",
     "output_type": "stream",
     "text": [
      "bath3 mean\n",
      "48.57034350258622\n",
      "bath3 std\n",
      "0.49196911156545775\n",
      "\n",
      "bath4 mean\n",
      "44.14068081234804\n",
      "bath4 std\n",
      "0.4330873513576168\n",
      "\n",
      "bath5 mean\n",
      "8.533828744835661\n",
      "bath5 std\n",
      "0.2628695249842498\n",
      "\n",
      "bath6 mean\n",
      "17.855163734975893\n",
      "bath6 std\n",
      "0.3399439033995715\n",
      "\n",
      "bath8 mean\n",
      "14.514757858931848\n",
      "bath8 std\n",
      "0.2249256701890608\n",
      "\n"
     ]
    }
   ],
   "source": [
    "CSA_force = []\n",
    "\n",
    "for mb in range(len(locmax_list)):\n",
    "    temps_list = []\n",
    "    #print (\"MUSCLE BATH\",mb+1)\n",
    "    for i in range(len(locmax_list[mb])):\n",
    "        temps_list.append((locmax_list[mb][i]-base[mb][i])/CSA_list[mb])\n",
    "    CSA_force.append(np.array(temps_list))\n",
    "counter = 0    \n",
    "for bath in df_ref['Bath Number']:\n",
    "#for forces in CSA_force:\n",
    "    print (\"bath\",bath,\" mean\\n\",CSA_force[counter].mean(),'\\n',\"bath\",bath,\" std\\n\",CSA_force[counter].std(),'\\n',sep = '')\n",
    "    counter+=1"
   ]
  },
  {
   "cell_type": "code",
   "execution_count": 44,
   "metadata": {},
   "outputs": [],
   "source": [
    "\n",
    "#print(peak_list[0])\n",
    "#print(peak_list[0].mean())\n",
    "#print(peak_list[0].std())\n",
    "\n",
    "#print(peak_idx_list[0][0])\n",
    "    \n"
   ]
  },
  {
   "cell_type": "code",
   "execution_count": 45,
   "metadata": {},
   "outputs": [],
   "source": [
    "#find the baseline force/minimum value before each peak\n",
    "\n",
    "#x = argrelextrema(np.array(baseline_array_list[0]), np.less,order=100)\n",
    "#print(np.array(baseline_array_list[0])[x])\n",
    "#print(x)\n",
    "#print(peak_idx_list[0][0])\n",
    "#np.amin(np.array(baseline_array_list[0][0:500]))\n",
    "#print(np.array(baseline_array_list[0])[0:500])\n",
    "\n",
    "\n",
    "\n",
    "#baseline_values = peakutils.baseline(np.array(baseline_array_list[0])[500:1000])\n",
    "\n",
    "#print(baseline_values)\n",
    "\n"
   ]
  },
  {
   "cell_type": "code",
   "execution_count": 46,
   "metadata": {},
   "outputs": [],
   "source": [
    "#gradients=np.diff(np.array(baseline_array_list[0]))\n",
    "#print(np.argmax(gradients))\n",
    "#np.array(baseline_array_list[0])[2309]\n",
    "\n",
    "#subtract minimum value from peak force to calculate amplitude of contraction\n",
    "#calculate mean value of contraction amplitude\n",
    "#calculate standard deviation\n",
    "#calculate contractions amplitude corrected to CSA\n",
    "#calculate mean value of contractions amplitude/CSA\n",
    "#calculate standard deviation of contractions amplitude/CSA\n",
    "\n",
    "\n",
    "#from max/min calculate the amplitudes/peaks\n",
    "#calculate the average for each bath\n",
    "#calculate the peaks \n",
    "\n",
    "#loop through baths and find peak forces\n",
    "#input function to determine when baseline period should be"
   ]
  },
  {
   "cell_type": "code",
   "execution_count": null,
   "metadata": {},
   "outputs": [],
   "source": []
  },
  {
   "cell_type": "code",
   "execution_count": null,
   "metadata": {},
   "outputs": [],
   "source": []
  },
  {
   "cell_type": "code",
   "execution_count": null,
   "metadata": {},
   "outputs": [],
   "source": []
  },
  {
   "cell_type": "code",
   "execution_count": null,
   "metadata": {},
   "outputs": [],
   "source": [
    "#4 parameters\n",
    "#1. peak force or amplitude\n",
    "#2. frequency or contractions/hour\n",
    "#3. duration of contractions\n",
    "#4. relaxation time"
   ]
  },
  {
   "cell_type": "code",
   "execution_count": 96,
   "metadata": {},
   "outputs": [],
   "source": [
    "\n"
   ]
  },
  {
   "cell_type": "code",
   "execution_count": 297,
   "metadata": {},
   "outputs": [
    {
     "name": "stdout",
     "output_type": "stream",
     "text": [
      "(array([ 371, 1017, 1676, 2331, 3003], dtype=int64), {'peak_heights': array([22.71, 22.33, 22.73, 22.45, 22.39]), 'prominences': array([19.013, 18.67 , 19.133, 18.857, 18.8  ]), 'left_bases': array([ 104,  757, 1511, 2061, 2773], dtype=int64), 'right_bases': array([1511, 1511, 3419, 3419, 3419], dtype=int64), 'widths': array([73.36527039, 75.12037037, 75.5745694 , 76.40619883, 78.65058712]), 'width_heights': array([13.2035, 12.995 , 13.1635, 13.0215, 12.99  ]), 'left_ips': array([ 353.30035461,  998.12962963, 1657.12304965, 2312.11222222,\n",
      "       2984.2189781 ]), 'right_ips': array([ 426.665625  , 1073.25      , 1732.69761905, 2388.51842105,\n",
      "       3062.86956522])})\n",
      "{'peak_heights': array([22.71, 22.33, 22.73, 22.45, 22.39]), 'prominences': array([19.013, 18.67 , 19.133, 18.857, 18.8  ]), 'left_bases': array([ 104,  757, 1511, 2061, 2773], dtype=int64), 'right_bases': array([1511, 1511, 3419, 3419, 3419], dtype=int64), 'widths': array([73.36527039, 75.12037037, 75.5745694 , 76.40619883, 78.65058712]), 'width_heights': array([13.2035, 12.995 , 13.1635, 13.0215, 12.99  ]), 'left_ips': array([ 353.30035461,  998.12962963, 1657.12304965, 2312.11222222,\n",
      "       2984.2189781 ]), 'right_ips': array([ 426.665625  , 1073.25      , 1732.69761905, 2388.51842105,\n",
      "       3062.86956522])}\n"
     ]
    }
   ],
   "source": [
    "#calculate duration/ relaxation time\n",
    "peaks = find_peaks(np.array(baseline_array_list[0]),height = 10, width = 30)\n",
    "print(peaks)\n",
    "print(peaks[1])"
   ]
  },
  {
   "cell_type": "code",
   "execution_count": 302,
   "metadata": {},
   "outputs": [
    {
     "data": {
      "text/plain": [
       "array([ 104,  757, 1511, 2061, 2773], dtype=int64)"
      ]
     },
     "execution_count": 302,
     "metadata": {},
     "output_type": "execute_result"
    }
   ],
   "source": [
    "peaks[1]['left_bases']"
   ]
  },
  {
   "cell_type": "code",
   "execution_count": null,
   "metadata": {},
   "outputs": [],
   "source": []
  },
  {
   "cell_type": "code",
   "execution_count": 47,
   "metadata": {},
   "outputs": [],
   "source": [
    "comments_file.close()"
   ]
  },
  {
   "cell_type": "code",
   "execution_count": null,
   "metadata": {},
   "outputs": [],
   "source": []
  }
 ],
 "metadata": {
  "kernelspec": {
   "display_name": "Python 3",
   "language": "python",
   "name": "python3"
  },
  "language_info": {
   "codemirror_mode": {
    "name": "ipython",
    "version": 3
   },
   "file_extension": ".py",
   "mimetype": "text/x-python",
   "name": "python",
   "nbconvert_exporter": "python",
   "pygments_lexer": "ipython3",
   "version": "3.6.4"
  }
 },
 "nbformat": 4,
 "nbformat_minor": 2
}
